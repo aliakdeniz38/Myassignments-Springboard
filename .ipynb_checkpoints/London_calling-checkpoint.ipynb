{
 "cells": [
  {
   "cell_type": "markdown",
   "metadata": {
    "colab_type": "text",
    "id": "Tia3MP1SJpgj"
   },
   "source": [
    "# which boroughs of London have seen the greatest increase in housing prices, on average, over the last two decades?\n",
    "\n",
    "\n",
    "A borough is just a fancy word for district. You may be familiar with the five boroughs of New York… well, there are 32 boroughs within Greater London [(here's some info for the curious)](https://en.wikipedia.org/wiki/London_boroughs). Some of them are more desirable areas to live in, and the data will reflect that with a greater rise in housing prices.\n"
   ]
  },
  {
   "cell_type": "markdown",
   "metadata": {
    "colab_type": "text",
    "id": "Ipgd2nV8Jpgl"
   },
   "source": [
    "Data Science projects generally adhere to the four stages of Data Science Pipeline:\n",
    "1. Sourcing and loading \n",
    "2. Cleaning, transforming, and visualizing \n",
    "3. Modeling \n",
    "4. Evaluating and concluding \n"
   ]
  },
  {
   "cell_type": "markdown",
   "metadata": {
    "colab_type": "text",
    "id": "zswDqbefJpgm"
   },
   "source": [
    "### 1. Sourcing and Loading \n",
    "\n",
    "Any Data Science project kicks off by importing  ***pandas***. The documentation of this wonderful library can be found [here](https://pandas.pydata.org/). As you've seen, pandas is conveniently connected to the [Numpy](http://www.numpy.org/) and [Matplotlib](https://matplotlib.org/) libraries. \n",
    " "
   ]
  },
  {
   "cell_type": "markdown",
   "metadata": {
    "colab_type": "text",
    "id": "aEau5nEvJpgm"
   },
   "source": [
    "#### 1.1. Importing Libraries"
   ]
  },
  {
   "cell_type": "code",
   "execution_count": 2,
   "metadata": {
    "colab": {},
    "colab_type": "code",
    "id": "7Bt_Q_oPJpgn"
   },
   "outputs": [],
   "source": [
    "import pandas as pd\n",
    "import numpy as np\n",
    "import matplotlib.pyplot as plt"
   ]
  },
  {
   "cell_type": "markdown",
   "metadata": {
    "colab_type": "text",
    "id": "koUrawxsJpgq"
   },
   "source": [
    "#### 1.2.  Loading the data\n",
    "Your data comes from the [London Datastore](https://data.london.gov.uk/): a free, open-source data-sharing portal for London-oriented datasets. "
   ]
  },
  {
   "cell_type": "code",
   "execution_count": 3,
   "metadata": {
    "colab": {},
    "colab_type": "code",
    "id": "AiLiD4v3Jpgr"
   },
   "outputs": [],
   "source": [
    "\n",
    "url_LondonHousePrices = \"https://data.london.gov.uk/download/uk-house-price-index/70ac0766-8902-4eb5-aab5-01951aaed773/UK%20House%20price%20index.xls\"\n",
    "\n",
    "properties = pd.read_excel(url_LondonHousePrices, sheet_name='Average price', index_col= 0) # we want to thave the first cloumn as our index"
   ]
  },
  {
   "cell_type": "markdown",
   "metadata": {
    "colab_type": "text",
    "id": "POukEJXgJpgu"
   },
   "source": [
    "### 2. Cleaning, transforming, and visualizing\n",
    "This second stage is arguably the most important part of any Data Science project. The first thing to do is take a proper look at the data. Cleaning forms the majority of this stage, and can be done both before or after Transformation.\n",
    "\n",
    "The end goal of data cleaning is to have tidy data. When data is tidy: \n",
    "\n",
    "1. Each variable has a column.\n",
    "2. Each observation forms a row.\n"
   ]
  },
  {
   "cell_type": "markdown",
   "metadata": {
    "colab_type": "text",
    "id": "Te0Q548tnzZa"
   },
   "source": [
    "**2.1. Exploring your data** \n",
    "\n",
    "Think about your pandas functions for checking out a dataframe. "
   ]
  },
  {
   "cell_type": "code",
   "execution_count": 4,
   "metadata": {
    "colab": {},
    "colab_type": "code",
    "id": "Rxirxw_qoAJa"
   },
   "outputs": [
    {
     "data": {
      "text/html": [
       "<div>\n",
       "<style scoped>\n",
       "    .dataframe tbody tr th:only-of-type {\n",
       "        vertical-align: middle;\n",
       "    }\n",
       "\n",
       "    .dataframe tbody tr th {\n",
       "        vertical-align: top;\n",
       "    }\n",
       "\n",
       "    .dataframe thead th {\n",
       "        text-align: right;\n",
       "    }\n",
       "</style>\n",
       "<table border=\"1\" class=\"dataframe\">\n",
       "  <thead>\n",
       "    <tr style=\"text-align: right;\">\n",
       "      <th></th>\n",
       "      <th>City of London</th>\n",
       "      <th>Barking &amp; Dagenham</th>\n",
       "      <th>Barnet</th>\n",
       "      <th>Bexley</th>\n",
       "      <th>Brent</th>\n",
       "      <th>Bromley</th>\n",
       "      <th>Camden</th>\n",
       "      <th>Croydon</th>\n",
       "      <th>Ealing</th>\n",
       "      <th>Enfield</th>\n",
       "      <th>...</th>\n",
       "      <th>NORTH WEST</th>\n",
       "      <th>YORKS &amp; THE HUMBER</th>\n",
       "      <th>EAST MIDLANDS</th>\n",
       "      <th>WEST MIDLANDS</th>\n",
       "      <th>EAST OF ENGLAND</th>\n",
       "      <th>LONDON</th>\n",
       "      <th>SOUTH EAST</th>\n",
       "      <th>SOUTH WEST</th>\n",
       "      <th>Unnamed: 47</th>\n",
       "      <th>England</th>\n",
       "    </tr>\n",
       "  </thead>\n",
       "  <tbody>\n",
       "    <tr>\n",
       "      <th>NaT</th>\n",
       "      <td>E09000001</td>\n",
       "      <td>E09000002</td>\n",
       "      <td>E09000003</td>\n",
       "      <td>E09000004</td>\n",
       "      <td>E09000005</td>\n",
       "      <td>E09000006</td>\n",
       "      <td>E09000007</td>\n",
       "      <td>E09000008</td>\n",
       "      <td>E09000009</td>\n",
       "      <td>E09000010</td>\n",
       "      <td>...</td>\n",
       "      <td>E12000002</td>\n",
       "      <td>E12000003</td>\n",
       "      <td>E12000004</td>\n",
       "      <td>E12000005</td>\n",
       "      <td>E12000006</td>\n",
       "      <td>E12000007</td>\n",
       "      <td>E12000008</td>\n",
       "      <td>E12000009</td>\n",
       "      <td>NaN</td>\n",
       "      <td>E92000001</td>\n",
       "    </tr>\n",
       "    <tr>\n",
       "      <th>1995-01-01</th>\n",
       "      <td>91448.98487</td>\n",
       "      <td>50460.2266</td>\n",
       "      <td>93284.51832</td>\n",
       "      <td>64958.09036</td>\n",
       "      <td>71306.56698</td>\n",
       "      <td>81671.47692</td>\n",
       "      <td>120932.8881</td>\n",
       "      <td>69158.16225</td>\n",
       "      <td>79885.89069</td>\n",
       "      <td>72514.69096</td>\n",
       "      <td>...</td>\n",
       "      <td>43958.48001</td>\n",
       "      <td>44803.42878</td>\n",
       "      <td>45544.52227</td>\n",
       "      <td>48527.52339</td>\n",
       "      <td>56701.5961</td>\n",
       "      <td>74435.76052</td>\n",
       "      <td>64018.87894</td>\n",
       "      <td>54705.1579</td>\n",
       "      <td>NaN</td>\n",
       "      <td>53202.77128</td>\n",
       "    </tr>\n",
       "    <tr>\n",
       "      <th>1995-02-01</th>\n",
       "      <td>82202.77314</td>\n",
       "      <td>51085.77983</td>\n",
       "      <td>93190.16963</td>\n",
       "      <td>64787.92069</td>\n",
       "      <td>72022.26197</td>\n",
       "      <td>81657.55944</td>\n",
       "      <td>119508.8622</td>\n",
       "      <td>68951.09542</td>\n",
       "      <td>80897.06551</td>\n",
       "      <td>73155.19746</td>\n",
       "      <td>...</td>\n",
       "      <td>43925.42289</td>\n",
       "      <td>44528.80721</td>\n",
       "      <td>46051.57066</td>\n",
       "      <td>49341.29029</td>\n",
       "      <td>56593.59475</td>\n",
       "      <td>72777.93709</td>\n",
       "      <td>63715.02399</td>\n",
       "      <td>54356.14843</td>\n",
       "      <td>NaN</td>\n",
       "      <td>53096.1549</td>\n",
       "    </tr>\n",
       "  </tbody>\n",
       "</table>\n",
       "<p>3 rows × 48 columns</p>\n",
       "</div>"
      ],
      "text/plain": [
       "           City of London Barking & Dagenham       Barnet       Bexley  \\\n",
       "NaT             E09000001          E09000002    E09000003    E09000004   \n",
       "1995-01-01    91448.98487         50460.2266  93284.51832  64958.09036   \n",
       "1995-02-01    82202.77314        51085.77983  93190.16963  64787.92069   \n",
       "\n",
       "                  Brent      Bromley       Camden      Croydon       Ealing  \\\n",
       "NaT           E09000005    E09000006    E09000007    E09000008    E09000009   \n",
       "1995-01-01  71306.56698  81671.47692  120932.8881  69158.16225  79885.89069   \n",
       "1995-02-01  72022.26197  81657.55944  119508.8622  68951.09542  80897.06551   \n",
       "\n",
       "                Enfield  ...   NORTH WEST YORKS & THE HUMBER EAST MIDLANDS  \\\n",
       "NaT           E09000010  ...    E12000002          E12000003     E12000004   \n",
       "1995-01-01  72514.69096  ...  43958.48001        44803.42878   45544.52227   \n",
       "1995-02-01  73155.19746  ...  43925.42289        44528.80721   46051.57066   \n",
       "\n",
       "           WEST MIDLANDS EAST OF ENGLAND       LONDON   SOUTH EAST  \\\n",
       "NaT            E12000005       E12000006    E12000007    E12000008   \n",
       "1995-01-01   48527.52339      56701.5961  74435.76052  64018.87894   \n",
       "1995-02-01   49341.29029     56593.59475  72777.93709  63715.02399   \n",
       "\n",
       "             SOUTH WEST Unnamed: 47      England  \n",
       "NaT           E12000009         NaN    E92000001  \n",
       "1995-01-01   54705.1579         NaN  53202.77128  \n",
       "1995-02-01  54356.14843         NaN   53096.1549  \n",
       "\n",
       "[3 rows x 48 columns]"
      ]
     },
     "execution_count": 4,
     "metadata": {},
     "output_type": "execute_result"
    }
   ],
   "source": [
    "properties.head(3) # Lets see what we have \n"
   ]
  },
  {
   "cell_type": "code",
   "execution_count": 40,
   "metadata": {},
   "outputs": [
    {
     "data": {
      "text/plain": [
       "(353, 48)"
      ]
     },
     "execution_count": 40,
     "metadata": {},
     "output_type": "execute_result"
    }
   ],
   "source": [
    "properties.shape  # we have the entries on the columns and values on the rows. it needs to be transposed. "
   ]
  },
  {
   "cell_type": "code",
   "execution_count": 5,
   "metadata": {},
   "outputs": [
    {
     "data": {
      "text/html": [
       "<div>\n",
       "<style scoped>\n",
       "    .dataframe tbody tr th:only-of-type {\n",
       "        vertical-align: middle;\n",
       "    }\n",
       "\n",
       "    .dataframe tbody tr th {\n",
       "        vertical-align: top;\n",
       "    }\n",
       "\n",
       "    .dataframe thead th {\n",
       "        text-align: right;\n",
       "    }\n",
       "</style>\n",
       "<table border=\"1\" class=\"dataframe\">\n",
       "  <thead>\n",
       "    <tr style=\"text-align: right;\">\n",
       "      <th></th>\n",
       "      <th>NaT</th>\n",
       "      <th>1995-01-01</th>\n",
       "      <th>1995-02-01</th>\n",
       "      <th>1995-03-01</th>\n",
       "      <th>1995-04-01</th>\n",
       "      <th>1995-05-01</th>\n",
       "      <th>1995-06-01</th>\n",
       "      <th>1995-07-01</th>\n",
       "      <th>1995-08-01</th>\n",
       "      <th>1995-09-01</th>\n",
       "      <th>...</th>\n",
       "      <th>2023-07-01</th>\n",
       "      <th>2023-08-01</th>\n",
       "      <th>2023-09-01</th>\n",
       "      <th>2023-10-01</th>\n",
       "      <th>2023-11-01</th>\n",
       "      <th>2023-12-01</th>\n",
       "      <th>2024-01-01</th>\n",
       "      <th>2024-02-01</th>\n",
       "      <th>2024-03-01</th>\n",
       "      <th>2024-04-01</th>\n",
       "    </tr>\n",
       "  </thead>\n",
       "  <tbody>\n",
       "    <tr>\n",
       "      <th>City of London</th>\n",
       "      <td>E09000001</td>\n",
       "      <td>91448.98487</td>\n",
       "      <td>82202.77314</td>\n",
       "      <td>79120.70256</td>\n",
       "      <td>77101.20804</td>\n",
       "      <td>84409.14932</td>\n",
       "      <td>94900.51244</td>\n",
       "      <td>110128.0423</td>\n",
       "      <td>112329.4376</td>\n",
       "      <td>104473.1096</td>\n",
       "      <td>...</td>\n",
       "      <td>1008012</td>\n",
       "      <td>936702</td>\n",
       "      <td>896682</td>\n",
       "      <td>854727</td>\n",
       "      <td>837486</td>\n",
       "      <td>804808</td>\n",
       "      <td>798179</td>\n",
       "      <td>785962</td>\n",
       "      <td>755712</td>\n",
       "      <td>778946</td>\n",
       "    </tr>\n",
       "    <tr>\n",
       "      <th>Barking &amp; Dagenham</th>\n",
       "      <td>E09000002</td>\n",
       "      <td>50460.2266</td>\n",
       "      <td>51085.77983</td>\n",
       "      <td>51268.96956</td>\n",
       "      <td>53133.50526</td>\n",
       "      <td>53042.24852</td>\n",
       "      <td>53700.34831</td>\n",
       "      <td>52113.12157</td>\n",
       "      <td>52232.19868</td>\n",
       "      <td>51471.61353</td>\n",
       "      <td>...</td>\n",
       "      <td>338138</td>\n",
       "      <td>339563</td>\n",
       "      <td>337649</td>\n",
       "      <td>337933</td>\n",
       "      <td>341026</td>\n",
       "      <td>337725</td>\n",
       "      <td>328359</td>\n",
       "      <td>319809</td>\n",
       "      <td>326650</td>\n",
       "      <td>333425</td>\n",
       "    </tr>\n",
       "    <tr>\n",
       "      <th>Barnet</th>\n",
       "      <td>E09000003</td>\n",
       "      <td>93284.51832</td>\n",
       "      <td>93190.16963</td>\n",
       "      <td>92247.52435</td>\n",
       "      <td>90762.87492</td>\n",
       "      <td>90258.00033</td>\n",
       "      <td>90107.23471</td>\n",
       "      <td>91441.24768</td>\n",
       "      <td>92361.31512</td>\n",
       "      <td>93273.12245</td>\n",
       "      <td>...</td>\n",
       "      <td>589701</td>\n",
       "      <td>591563</td>\n",
       "      <td>588233</td>\n",
       "      <td>579669</td>\n",
       "      <td>581615</td>\n",
       "      <td>581371</td>\n",
       "      <td>581246</td>\n",
       "      <td>573653</td>\n",
       "      <td>582371</td>\n",
       "      <td>573010</td>\n",
       "    </tr>\n",
       "  </tbody>\n",
       "</table>\n",
       "<p>3 rows × 353 columns</p>\n",
       "</div>"
      ],
      "text/plain": [
       "                          NaT   1995-01-01   1995-02-01   1995-03-01  \\\n",
       "City of London      E09000001  91448.98487  82202.77314  79120.70256   \n",
       "Barking & Dagenham  E09000002   50460.2266  51085.77983  51268.96956   \n",
       "Barnet              E09000003  93284.51832  93190.16963  92247.52435   \n",
       "\n",
       "                     1995-04-01   1995-05-01   1995-06-01   1995-07-01  \\\n",
       "City of London      77101.20804  84409.14932  94900.51244  110128.0423   \n",
       "Barking & Dagenham  53133.50526  53042.24852  53700.34831  52113.12157   \n",
       "Barnet              90762.87492  90258.00033  90107.23471  91441.24768   \n",
       "\n",
       "                     1995-08-01   1995-09-01  ... 2023-07-01 2023-08-01  \\\n",
       "City of London      112329.4376  104473.1096  ...    1008012     936702   \n",
       "Barking & Dagenham  52232.19868  51471.61353  ...     338138     339563   \n",
       "Barnet              92361.31512  93273.12245  ...     589701     591563   \n",
       "\n",
       "                   2023-09-01 2023-10-01 2023-11-01 2023-12-01 2024-01-01  \\\n",
       "City of London         896682     854727     837486     804808     798179   \n",
       "Barking & Dagenham     337649     337933     341026     337725     328359   \n",
       "Barnet                 588233     579669     581615     581371     581246   \n",
       "\n",
       "                   2024-02-01 2024-03-01 2024-04-01  \n",
       "City of London         785962     755712     778946  \n",
       "Barking & Dagenham     319809     326650     333425  \n",
       "Barnet                 573653     582371     573010  \n",
       "\n",
       "[3 rows x 353 columns]"
      ]
     },
     "execution_count": 5,
     "metadata": {},
     "output_type": "execute_result"
    }
   ],
   "source": [
    "df = properties.transpose()\n",
    "df.head(3) # now we we are getting it to the right way. "
   ]
  },
  {
   "cell_type": "code",
   "execution_count": 6,
   "metadata": {},
   "outputs": [
    {
     "data": {
      "text/plain": [
       "Index(['City of London', 'Barking & Dagenham', 'Barnet', 'Bexley', 'Brent',\n",
       "       'Bromley', 'Camden', 'Croydon', 'Ealing', 'Enfield', 'Greenwich',\n",
       "       'Hackney', 'Hammersmith & Fulham', 'Haringey', 'Harrow', 'Havering',\n",
       "       'Hillingdon', 'Hounslow', 'Islington', 'Kensington & Chelsea',\n",
       "       'Kingston upon Thames', 'Lambeth', 'Lewisham', 'Merton', 'Newham',\n",
       "       'Redbridge', 'Richmond upon Thames', 'Southwark', 'Sutton',\n",
       "       'Tower Hamlets', 'Waltham Forest', 'Wandsworth', 'Westminster',\n",
       "       'Unnamed: 34', 'Inner London', 'Outer London', 'Unnamed: 37',\n",
       "       'NORTH EAST', 'NORTH WEST', 'YORKS & THE HUMBER', 'EAST MIDLANDS',\n",
       "       'WEST MIDLANDS', 'EAST OF ENGLAND', 'LONDON', 'SOUTH EAST',\n",
       "       'SOUTH WEST', 'Unnamed: 47', 'England'],\n",
       "      dtype='object')"
      ]
     },
     "execution_count": 6,
     "metadata": {},
     "output_type": "execute_result"
    }
   ],
   "source": [
    "df.index \n"
   ]
  },
  {
   "cell_type": "markdown",
   "metadata": {
    "colab_type": "text",
    "id": "tE9Sqt9-oAta"
   },
   "source": [
    "**2.2. Cleaning the data**\n",
    "\n",
    "\n",
    "The row indices of our DataFrame contain the names of the boroughs. You should never have a piece of information we want to analyze as an index, this information should be within the DataFrame itself. The indices should just be a unique ID, almost always a number.\n",
    "\n",
    "Those names are perhaps the most important piece of information! Put them where you can work with them.\n"
   ]
  },
  {
   "cell_type": "code",
   "execution_count": 8,
   "metadata": {},
   "outputs": [],
   "source": [
    "df_1=df.reset_index() # we reset the indecies here. \n",
    "\n"
   ]
  },
  {
   "cell_type": "code",
   "execution_count": 9,
   "metadata": {},
   "outputs": [],
   "source": [
    "df_1.rename(columns={df_1.columns[0]: \"Borough\", df_1.columns[1]: \"Postal Code\"}, inplace= True) # lets rename the first two columns"
   ]
  },
  {
   "cell_type": "code",
   "execution_count": 11,
   "metadata": {},
   "outputs": [
    {
     "data": {
      "text/html": [
       "<div>\n",
       "<style scoped>\n",
       "    .dataframe tbody tr th:only-of-type {\n",
       "        vertical-align: middle;\n",
       "    }\n",
       "\n",
       "    .dataframe tbody tr th {\n",
       "        vertical-align: top;\n",
       "    }\n",
       "\n",
       "    .dataframe thead th {\n",
       "        text-align: right;\n",
       "    }\n",
       "</style>\n",
       "<table border=\"1\" class=\"dataframe\">\n",
       "  <thead>\n",
       "    <tr style=\"text-align: right;\">\n",
       "      <th></th>\n",
       "      <th>Borough</th>\n",
       "      <th>Postal Code</th>\n",
       "      <th>1995-01-01 00:00:00</th>\n",
       "      <th>1995-02-01 00:00:00</th>\n",
       "      <th>1995-03-01 00:00:00</th>\n",
       "      <th>1995-04-01 00:00:00</th>\n",
       "      <th>1995-05-01 00:00:00</th>\n",
       "      <th>1995-06-01 00:00:00</th>\n",
       "      <th>1995-07-01 00:00:00</th>\n",
       "      <th>1995-08-01 00:00:00</th>\n",
       "      <th>...</th>\n",
       "      <th>2023-07-01 00:00:00</th>\n",
       "      <th>2023-08-01 00:00:00</th>\n",
       "      <th>2023-09-01 00:00:00</th>\n",
       "      <th>2023-10-01 00:00:00</th>\n",
       "      <th>2023-11-01 00:00:00</th>\n",
       "      <th>2023-12-01 00:00:00</th>\n",
       "      <th>2024-01-01 00:00:00</th>\n",
       "      <th>2024-02-01 00:00:00</th>\n",
       "      <th>2024-03-01 00:00:00</th>\n",
       "      <th>2024-04-01 00:00:00</th>\n",
       "    </tr>\n",
       "  </thead>\n",
       "  <tbody>\n",
       "    <tr>\n",
       "      <th>0</th>\n",
       "      <td>City of London</td>\n",
       "      <td>E09000001</td>\n",
       "      <td>91448.98487</td>\n",
       "      <td>82202.77314</td>\n",
       "      <td>79120.70256</td>\n",
       "      <td>77101.20804</td>\n",
       "      <td>84409.14932</td>\n",
       "      <td>94900.51244</td>\n",
       "      <td>110128.0423</td>\n",
       "      <td>112329.4376</td>\n",
       "      <td>...</td>\n",
       "      <td>1008012</td>\n",
       "      <td>936702</td>\n",
       "      <td>896682</td>\n",
       "      <td>854727</td>\n",
       "      <td>837486</td>\n",
       "      <td>804808</td>\n",
       "      <td>798179</td>\n",
       "      <td>785962</td>\n",
       "      <td>755712</td>\n",
       "      <td>778946</td>\n",
       "    </tr>\n",
       "    <tr>\n",
       "      <th>1</th>\n",
       "      <td>Barking &amp; Dagenham</td>\n",
       "      <td>E09000002</td>\n",
       "      <td>50460.2266</td>\n",
       "      <td>51085.77983</td>\n",
       "      <td>51268.96956</td>\n",
       "      <td>53133.50526</td>\n",
       "      <td>53042.24852</td>\n",
       "      <td>53700.34831</td>\n",
       "      <td>52113.12157</td>\n",
       "      <td>52232.19868</td>\n",
       "      <td>...</td>\n",
       "      <td>338138</td>\n",
       "      <td>339563</td>\n",
       "      <td>337649</td>\n",
       "      <td>337933</td>\n",
       "      <td>341026</td>\n",
       "      <td>337725</td>\n",
       "      <td>328359</td>\n",
       "      <td>319809</td>\n",
       "      <td>326650</td>\n",
       "      <td>333425</td>\n",
       "    </tr>\n",
       "    <tr>\n",
       "      <th>2</th>\n",
       "      <td>Barnet</td>\n",
       "      <td>E09000003</td>\n",
       "      <td>93284.51832</td>\n",
       "      <td>93190.16963</td>\n",
       "      <td>92247.52435</td>\n",
       "      <td>90762.87492</td>\n",
       "      <td>90258.00033</td>\n",
       "      <td>90107.23471</td>\n",
       "      <td>91441.24768</td>\n",
       "      <td>92361.31512</td>\n",
       "      <td>...</td>\n",
       "      <td>589701</td>\n",
       "      <td>591563</td>\n",
       "      <td>588233</td>\n",
       "      <td>579669</td>\n",
       "      <td>581615</td>\n",
       "      <td>581371</td>\n",
       "      <td>581246</td>\n",
       "      <td>573653</td>\n",
       "      <td>582371</td>\n",
       "      <td>573010</td>\n",
       "    </tr>\n",
       "  </tbody>\n",
       "</table>\n",
       "<p>3 rows × 354 columns</p>\n",
       "</div>"
      ],
      "text/plain": [
       "              Borough Postal Code 1995-01-01 00:00:00 1995-02-01 00:00:00  \\\n",
       "0      City of London   E09000001         91448.98487         82202.77314   \n",
       "1  Barking & Dagenham   E09000002          50460.2266         51085.77983   \n",
       "2              Barnet   E09000003         93284.51832         93190.16963   \n",
       "\n",
       "  1995-03-01 00:00:00 1995-04-01 00:00:00 1995-05-01 00:00:00  \\\n",
       "0         79120.70256         77101.20804         84409.14932   \n",
       "1         51268.96956         53133.50526         53042.24852   \n",
       "2         92247.52435         90762.87492         90258.00033   \n",
       "\n",
       "  1995-06-01 00:00:00 1995-07-01 00:00:00 1995-08-01 00:00:00  ...  \\\n",
       "0         94900.51244         110128.0423         112329.4376  ...   \n",
       "1         53700.34831         52113.12157         52232.19868  ...   \n",
       "2         90107.23471         91441.24768         92361.31512  ...   \n",
       "\n",
       "  2023-07-01 00:00:00 2023-08-01 00:00:00 2023-09-01 00:00:00  \\\n",
       "0             1008012              936702              896682   \n",
       "1              338138              339563              337649   \n",
       "2              589701              591563              588233   \n",
       "\n",
       "  2023-10-01 00:00:00 2023-11-01 00:00:00 2023-12-01 00:00:00  \\\n",
       "0              854727              837486              804808   \n",
       "1              337933              341026              337725   \n",
       "2              579669              581615              581371   \n",
       "\n",
       "  2024-01-01 00:00:00 2024-02-01 00:00:00 2024-03-01 00:00:00  \\\n",
       "0              798179              785962              755712   \n",
       "1              328359              319809              326650   \n",
       "2              581246              573653              582371   \n",
       "\n",
       "  2024-04-01 00:00:00  \n",
       "0              778946  \n",
       "1              333425  \n",
       "2              573010  \n",
       "\n",
       "[3 rows x 354 columns]"
      ]
     },
     "execution_count": 11,
     "metadata": {},
     "output_type": "execute_result"
    }
   ],
   "source": [
    "df_1.head(3)\n",
    "\n"
   ]
  },
  {
   "cell_type": "code",
   "execution_count": 12,
   "metadata": {},
   "outputs": [
    {
     "data": {
      "text/plain": [
       "Index([          'Borough',       'Postal Code', 1995-01-01 00:00:00,\n",
       "       1995-02-01 00:00:00, 1995-03-01 00:00:00, 1995-04-01 00:00:00,\n",
       "       1995-05-01 00:00:00, 1995-06-01 00:00:00, 1995-07-01 00:00:00,\n",
       "       1995-08-01 00:00:00,\n",
       "       ...\n",
       "       2023-07-01 00:00:00, 2023-08-01 00:00:00, 2023-09-01 00:00:00,\n",
       "       2023-10-01 00:00:00, 2023-11-01 00:00:00, 2023-12-01 00:00:00,\n",
       "       2024-01-01 00:00:00, 2024-02-01 00:00:00, 2024-03-01 00:00:00,\n",
       "       2024-04-01 00:00:00],\n",
       "      dtype='object', length=354)"
      ]
     },
     "execution_count": 12,
     "metadata": {},
     "output_type": "execute_result"
    }
   ],
   "source": [
    "df_1.columns # now, lets work on the rest of the column names. \n",
    "# here we have the prices on the columns whcih needs to be on the rows as well. Here, we will use the melt() function\n"
   ]
  },
  {
   "cell_type": "code",
   "execution_count": 13,
   "metadata": {},
   "outputs": [
    {
     "data": {
      "text/html": [
       "<div>\n",
       "<style scoped>\n",
       "    .dataframe tbody tr th:only-of-type {\n",
       "        vertical-align: middle;\n",
       "    }\n",
       "\n",
       "    .dataframe tbody tr th {\n",
       "        vertical-align: top;\n",
       "    }\n",
       "\n",
       "    .dataframe thead th {\n",
       "        text-align: right;\n",
       "    }\n",
       "</style>\n",
       "<table border=\"1\" class=\"dataframe\">\n",
       "  <thead>\n",
       "    <tr style=\"text-align: right;\">\n",
       "      <th></th>\n",
       "      <th>Borough</th>\n",
       "      <th>Postal Code</th>\n",
       "      <th>Month</th>\n",
       "      <th>Avg Value</th>\n",
       "    </tr>\n",
       "  </thead>\n",
       "  <tbody>\n",
       "    <tr>\n",
       "      <th>0</th>\n",
       "      <td>City of London</td>\n",
       "      <td>E09000001</td>\n",
       "      <td>1995-01-01</td>\n",
       "      <td>91448.98487</td>\n",
       "    </tr>\n",
       "    <tr>\n",
       "      <th>1</th>\n",
       "      <td>Barking &amp; Dagenham</td>\n",
       "      <td>E09000002</td>\n",
       "      <td>1995-01-01</td>\n",
       "      <td>50460.2266</td>\n",
       "    </tr>\n",
       "    <tr>\n",
       "      <th>2</th>\n",
       "      <td>Barnet</td>\n",
       "      <td>E09000003</td>\n",
       "      <td>1995-01-01</td>\n",
       "      <td>93284.51832</td>\n",
       "    </tr>\n",
       "  </tbody>\n",
       "</table>\n",
       "</div>"
      ],
      "text/plain": [
       "              Borough Postal Code      Month    Avg Value\n",
       "0      City of London   E09000001 1995-01-01  91448.98487\n",
       "1  Barking & Dagenham   E09000002 1995-01-01   50460.2266\n",
       "2              Barnet   E09000003 1995-01-01  93284.51832"
      ]
     },
     "execution_count": 13,
     "metadata": {},
     "output_type": "execute_result"
    }
   ],
   "source": [
    "df_cleaned=pd.melt(df_1, id_vars= [\"Borough\", \"Postal Code\"])\n",
    "df_cleaned.rename(columns={df_cleaned.columns[2]: \"Month\"}, inplace = True)\n",
    "df_cleaned.rename(columns={df_cleaned.columns[3]: \"Avg Value\"}, inplace = True)\n",
    "df_cleaned.head(3)\n",
    "# melt function gets all the columns into the rows and saves the values in a columns. "
   ]
  },
  {
   "cell_type": "markdown",
   "metadata": {},
   "source": [
    "Awesome. This is looking good. \n"
   ]
  },
  {
   "cell_type": "code",
   "execution_count": 14,
   "metadata": {},
   "outputs": [
    {
     "name": "stdout",
     "output_type": "stream",
     "text": [
      "<class 'pandas.core.frame.DataFrame'>\n",
      "RangeIndex: 16896 entries, 0 to 16895\n",
      "Data columns (total 4 columns):\n",
      " #   Column       Non-Null Count  Dtype         \n",
      "---  ------       --------------  -----         \n",
      " 0   Borough      16896 non-null  object        \n",
      " 1   Postal Code  15840 non-null  object        \n",
      " 2   Month        16896 non-null  datetime64[ns]\n",
      " 3   Avg Value    15840 non-null  object        \n",
      "dtypes: datetime64[ns](1), object(3)\n",
      "memory usage: 528.1+ KB\n"
     ]
    }
   ],
   "source": [
    "df_cleaned.info()\n",
    " #lets change the avg value to float\n",
    "    "
   ]
  },
  {
   "cell_type": "code",
   "execution_count": 15,
   "metadata": {
    "colab": {},
    "colab_type": "code",
    "id": "cdAu1A3YoH_r"
   },
   "outputs": [
    {
     "name": "stdout",
     "output_type": "stream",
     "text": [
      "<class 'pandas.core.frame.DataFrame'>\n",
      "RangeIndex: 16896 entries, 0 to 16895\n",
      "Data columns (total 4 columns):\n",
      " #   Column       Non-Null Count  Dtype         \n",
      "---  ------       --------------  -----         \n",
      " 0   Borough      16896 non-null  object        \n",
      " 1   Postal Code  15840 non-null  object        \n",
      " 2   Month        16896 non-null  datetime64[ns]\n",
      " 3   Avg Value    15840 non-null  float64       \n",
      "dtypes: datetime64[ns](1), float64(1), object(2)\n",
      "memory usage: 528.1+ KB\n"
     ]
    }
   ],
   "source": [
    "df_cleaned[\"Avg Value\"]= pd.to_numeric(df_cleaned[\"Avg Value\"], downcast='float') # how to change a object to numeric. \n",
    "df_cleaned.info() "
   ]
  },
  {
   "cell_type": "code",
   "execution_count": 16,
   "metadata": {},
   "outputs": [
    {
     "data": {
      "text/plain": [
       "Borough        16896\n",
       "Postal Code    15840\n",
       "Month          16896\n",
       "Avg Value      15840\n",
       "dtype: int64"
      ]
     },
     "execution_count": 16,
     "metadata": {},
     "output_type": "execute_result"
    }
   ],
   "source": [
    "df_cleaned.count() "
   ]
  },
  {
   "cell_type": "code",
   "execution_count": 18,
   "metadata": {},
   "outputs": [
    {
     "data": {
      "text/html": [
       "<div>\n",
       "<style scoped>\n",
       "    .dataframe tbody tr th:only-of-type {\n",
       "        vertical-align: middle;\n",
       "    }\n",
       "\n",
       "    .dataframe tbody tr th {\n",
       "        vertical-align: top;\n",
       "    }\n",
       "\n",
       "    .dataframe thead th {\n",
       "        text-align: right;\n",
       "    }\n",
       "</style>\n",
       "<table border=\"1\" class=\"dataframe\">\n",
       "  <thead>\n",
       "    <tr style=\"text-align: right;\">\n",
       "      <th></th>\n",
       "      <th>Borough</th>\n",
       "      <th>Postal Code</th>\n",
       "      <th>Month</th>\n",
       "      <th>Avg Value</th>\n",
       "    </tr>\n",
       "  </thead>\n",
       "  <tbody>\n",
       "    <tr>\n",
       "      <th>33</th>\n",
       "      <td>Unnamed: 34</td>\n",
       "      <td>NaN</td>\n",
       "      <td>1995-01-01</td>\n",
       "      <td>NaN</td>\n",
       "    </tr>\n",
       "    <tr>\n",
       "      <th>36</th>\n",
       "      <td>Unnamed: 37</td>\n",
       "      <td>NaN</td>\n",
       "      <td>1995-01-01</td>\n",
       "      <td>NaN</td>\n",
       "    </tr>\n",
       "    <tr>\n",
       "      <th>46</th>\n",
       "      <td>Unnamed: 47</td>\n",
       "      <td>NaN</td>\n",
       "      <td>1995-01-01</td>\n",
       "      <td>NaN</td>\n",
       "    </tr>\n",
       "    <tr>\n",
       "      <th>81</th>\n",
       "      <td>Unnamed: 34</td>\n",
       "      <td>NaN</td>\n",
       "      <td>1995-02-01</td>\n",
       "      <td>NaN</td>\n",
       "    </tr>\n",
       "    <tr>\n",
       "      <th>84</th>\n",
       "      <td>Unnamed: 37</td>\n",
       "      <td>NaN</td>\n",
       "      <td>1995-02-01</td>\n",
       "      <td>NaN</td>\n",
       "    </tr>\n",
       "    <tr>\n",
       "      <th>...</th>\n",
       "      <td>...</td>\n",
       "      <td>...</td>\n",
       "      <td>...</td>\n",
       "      <td>...</td>\n",
       "    </tr>\n",
       "    <tr>\n",
       "      <th>16836</th>\n",
       "      <td>Unnamed: 37</td>\n",
       "      <td>NaN</td>\n",
       "      <td>2024-03-01</td>\n",
       "      <td>NaN</td>\n",
       "    </tr>\n",
       "    <tr>\n",
       "      <th>16846</th>\n",
       "      <td>Unnamed: 47</td>\n",
       "      <td>NaN</td>\n",
       "      <td>2024-03-01</td>\n",
       "      <td>NaN</td>\n",
       "    </tr>\n",
       "    <tr>\n",
       "      <th>16881</th>\n",
       "      <td>Unnamed: 34</td>\n",
       "      <td>NaN</td>\n",
       "      <td>2024-04-01</td>\n",
       "      <td>NaN</td>\n",
       "    </tr>\n",
       "    <tr>\n",
       "      <th>16884</th>\n",
       "      <td>Unnamed: 37</td>\n",
       "      <td>NaN</td>\n",
       "      <td>2024-04-01</td>\n",
       "      <td>NaN</td>\n",
       "    </tr>\n",
       "    <tr>\n",
       "      <th>16894</th>\n",
       "      <td>Unnamed: 47</td>\n",
       "      <td>NaN</td>\n",
       "      <td>2024-04-01</td>\n",
       "      <td>NaN</td>\n",
       "    </tr>\n",
       "  </tbody>\n",
       "</table>\n",
       "<p>1056 rows × 4 columns</p>\n",
       "</div>"
      ],
      "text/plain": [
       "           Borough Postal Code      Month  Avg Value\n",
       "33     Unnamed: 34         NaN 1995-01-01        NaN\n",
       "36     Unnamed: 37         NaN 1995-01-01        NaN\n",
       "46     Unnamed: 47         NaN 1995-01-01        NaN\n",
       "81     Unnamed: 34         NaN 1995-02-01        NaN\n",
       "84     Unnamed: 37         NaN 1995-02-01        NaN\n",
       "...            ...         ...        ...        ...\n",
       "16836  Unnamed: 37         NaN 2024-03-01        NaN\n",
       "16846  Unnamed: 47         NaN 2024-03-01        NaN\n",
       "16881  Unnamed: 34         NaN 2024-04-01        NaN\n",
       "16884  Unnamed: 37         NaN 2024-04-01        NaN\n",
       "16894  Unnamed: 47         NaN 2024-04-01        NaN\n",
       "\n",
       "[1056 rows x 4 columns]"
      ]
     },
     "execution_count": 18,
     "metadata": {},
     "output_type": "execute_result"
    }
   ],
   "source": [
    "df_cleaned[df_cleaned[\"Avg Value\"].isna()] # there are about a 1000 rows with nan values that we can drop. "
   ]
  },
  {
   "cell_type": "code",
   "execution_count": 19,
   "metadata": {},
   "outputs": [
    {
     "data": {
      "text/plain": [
       "Borough        15840\n",
       "Postal Code    15840\n",
       "Month          15840\n",
       "Avg Value      15840\n",
       "dtype: int64"
      ]
     },
     "execution_count": 19,
     "metadata": {},
     "output_type": "execute_result"
    }
   ],
   "source": [
    "df_final = df_cleaned.dropna()\n",
    "df_final.count()"
   ]
  },
  {
   "cell_type": "code",
   "execution_count": 20,
   "metadata": {},
   "outputs": [
    {
     "data": {
      "text/plain": [
       "array(['City of London', 'Barking & Dagenham', 'Barnet', 'Bexley',\n",
       "       'Brent', 'Bromley', 'Camden', 'Croydon', 'Ealing', 'Enfield',\n",
       "       'Greenwich', 'Hackney', 'Hammersmith & Fulham', 'Haringey',\n",
       "       'Harrow', 'Havering', 'Hillingdon', 'Hounslow', 'Islington',\n",
       "       'Kensington & Chelsea', 'Kingston upon Thames', 'Lambeth',\n",
       "       'Lewisham', 'Merton', 'Newham', 'Redbridge',\n",
       "       'Richmond upon Thames', 'Southwark', 'Sutton', 'Tower Hamlets',\n",
       "       'Waltham Forest', 'Wandsworth', 'Westminster', 'Inner London',\n",
       "       'Outer London', 'NORTH EAST', 'NORTH WEST', 'YORKS & THE HUMBER',\n",
       "       'EAST MIDLANDS', 'WEST MIDLANDS', 'EAST OF ENGLAND', 'LONDON',\n",
       "       'SOUTH EAST', 'SOUTH WEST', 'England'], dtype=object)"
      ]
     },
     "execution_count": 20,
     "metadata": {},
     "output_type": "execute_result"
    }
   ],
   "source": [
    "df_final[\"Borough\"].unique() # lets figure out how many borough listed on our data\n"
   ]
  },
  {
   "cell_type": "code",
   "execution_count": 23,
   "metadata": {},
   "outputs": [
    {
     "data": {
      "text/plain": [
       "32"
      ]
     },
     "execution_count": 23,
     "metadata": {},
     "output_type": "execute_result"
    }
   ],
   "source": [
    "# filter out rows which is not a Borough, check if value of unique Boroughs = 32 \n",
    "not_borough = ['City of London', 'Inner London', 'Outer London', 'NORTH EAST', 'NORTH WEST', 'YORKS & THE HUMBER',\n",
    "       'EAST MIDLANDS', 'WEST MIDLANDS', 'EAST OF ENGLAND', 'LONDON',\n",
    "       'SOUTH EAST', 'SOUTH WEST', 'England']\n",
    "\n",
    "df_final = df_final[~df_final['Borough'].isin(not_borough)]   #~ tilde NOT operator\n",
    "df_final['Borough'].nunique() # gives the number of unique values which should be 32.  "
   ]
  },
  {
   "cell_type": "code",
   "execution_count": 27,
   "metadata": {},
   "outputs": [
    {
     "data": {
      "text/html": [
       "<div>\n",
       "<style scoped>\n",
       "    .dataframe tbody tr th:only-of-type {\n",
       "        vertical-align: middle;\n",
       "    }\n",
       "\n",
       "    .dataframe tbody tr th {\n",
       "        vertical-align: top;\n",
       "    }\n",
       "\n",
       "    .dataframe thead th {\n",
       "        text-align: right;\n",
       "    }\n",
       "</style>\n",
       "<table border=\"1\" class=\"dataframe\">\n",
       "  <thead>\n",
       "    <tr style=\"text-align: right;\">\n",
       "      <th></th>\n",
       "      <th>Borough</th>\n",
       "      <th>Postal Code</th>\n",
       "      <th>Month</th>\n",
       "      <th>Avg Value</th>\n",
       "    </tr>\n",
       "  </thead>\n",
       "  <tbody>\n",
       "    <tr>\n",
       "      <th>0</th>\n",
       "      <td>Barnet</td>\n",
       "      <td>E09000003</td>\n",
       "      <td>1995-01-01</td>\n",
       "      <td>93284.51832</td>\n",
       "    </tr>\n",
       "    <tr>\n",
       "      <th>1</th>\n",
       "      <td>Barnet</td>\n",
       "      <td>E09000003</td>\n",
       "      <td>1995-02-01</td>\n",
       "      <td>93190.16963</td>\n",
       "    </tr>\n",
       "    <tr>\n",
       "      <th>2</th>\n",
       "      <td>Barnet</td>\n",
       "      <td>E09000003</td>\n",
       "      <td>1995-03-01</td>\n",
       "      <td>92247.52435</td>\n",
       "    </tr>\n",
       "    <tr>\n",
       "      <th>3</th>\n",
       "      <td>Barnet</td>\n",
       "      <td>E09000003</td>\n",
       "      <td>1995-04-01</td>\n",
       "      <td>90762.87492</td>\n",
       "    </tr>\n",
       "    <tr>\n",
       "      <th>4</th>\n",
       "      <td>Barnet</td>\n",
       "      <td>E09000003</td>\n",
       "      <td>1995-05-01</td>\n",
       "      <td>90258.00033</td>\n",
       "    </tr>\n",
       "  </tbody>\n",
       "</table>\n",
       "</div>"
      ],
      "text/plain": [
       "  Borough Postal Code      Month    Avg Value\n",
       "0  Barnet   E09000003 1995-01-01  93284.51832\n",
       "1  Barnet   E09000003 1995-02-01  93190.16963\n",
       "2  Barnet   E09000003 1995-03-01  92247.52435\n",
       "3  Barnet   E09000003 1995-04-01  90762.87492\n",
       "4  Barnet   E09000003 1995-05-01  90258.00033"
      ]
     },
     "execution_count": 27,
     "metadata": {},
     "output_type": "execute_result"
    }
   ],
   "source": [
    "# lets get an borogh and see the price change by year as an example. \n",
    "\n",
    "\n",
    "barnet = df_final.loc[df_final[\"Borough\"] ==\"Barnet\"].reset_index(drop=True) #loc is a location based filter on rows. we need to reset the indecies as well\n",
    "\n",
    "barnet.head()"
   ]
  },
  {
   "cell_type": "code",
   "execution_count": 28,
   "metadata": {},
   "outputs": [
    {
     "data": {
      "image/png": "[encoded data removed]",
      "text/plain": [
       "<Figure size 640x480 with 1 Axes>"
      ]
     },
     "metadata": {},
     "output_type": "display_data"
    }
   ],
   "source": [
    "barnet.plot(kind='line',x='Month',y='Avg Value',color='blue')\n",
    "plt.ylabel('Average Value')\n",
    "plt.title('Montly Average Housing Prices of Barnet (London)')\n",
    "plt.show()"
   ]
  },
  {
   "cell_type": "code",
   "execution_count": 30,
   "metadata": {},
   "outputs": [
    {
     "data": {
      "text/html": [
       "<div>\n",
       "<style scoped>\n",
       "    .dataframe tbody tr th:only-of-type {\n",
       "        vertical-align: middle;\n",
       "    }\n",
       "\n",
       "    .dataframe tbody tr th {\n",
       "        vertical-align: top;\n",
       "    }\n",
       "\n",
       "    .dataframe thead th {\n",
       "        text-align: right;\n",
       "    }\n",
       "</style>\n",
       "<table border=\"1\" class=\"dataframe\">\n",
       "  <thead>\n",
       "    <tr style=\"text-align: right;\">\n",
       "      <th></th>\n",
       "      <th>Borough</th>\n",
       "      <th>Postal Code</th>\n",
       "      <th>Month</th>\n",
       "      <th>Avg Value</th>\n",
       "      <th>Year</th>\n",
       "    </tr>\n",
       "  </thead>\n",
       "  <tbody>\n",
       "    <tr>\n",
       "      <th>1</th>\n",
       "      <td>Barking &amp; Dagenham</td>\n",
       "      <td>E09000002</td>\n",
       "      <td>1995-01-01</td>\n",
       "      <td>50460.23</td>\n",
       "      <td>1995</td>\n",
       "    </tr>\n",
       "    <tr>\n",
       "      <th>2</th>\n",
       "      <td>Barnet</td>\n",
       "      <td>E09000003</td>\n",
       "      <td>1995-01-01</td>\n",
       "      <td>93284.52</td>\n",
       "      <td>1995</td>\n",
       "    </tr>\n",
       "    <tr>\n",
       "      <th>3</th>\n",
       "      <td>Bexley</td>\n",
       "      <td>E09000004</td>\n",
       "      <td>1995-01-01</td>\n",
       "      <td>64958.09</td>\n",
       "      <td>1995</td>\n",
       "    </tr>\n",
       "    <tr>\n",
       "      <th>4</th>\n",
       "      <td>Brent</td>\n",
       "      <td>E09000005</td>\n",
       "      <td>1995-01-01</td>\n",
       "      <td>71306.57</td>\n",
       "      <td>1995</td>\n",
       "    </tr>\n",
       "    <tr>\n",
       "      <th>5</th>\n",
       "      <td>Bromley</td>\n",
       "      <td>E09000006</td>\n",
       "      <td>1995-01-01</td>\n",
       "      <td>81671.48</td>\n",
       "      <td>1995</td>\n",
       "    </tr>\n",
       "  </tbody>\n",
       "</table>\n",
       "</div>"
      ],
      "text/plain": [
       "              Borough Postal Code      Month  Avg Value  Year\n",
       "1  Barking & Dagenham   E09000002 1995-01-01   50460.23  1995\n",
       "2              Barnet   E09000003 1995-01-01   93284.52  1995\n",
       "3              Bexley   E09000004 1995-01-01   64958.09  1995\n",
       "4               Brent   E09000005 1995-01-01   71306.57  1995\n",
       "5             Bromley   E09000006 1995-01-01   81671.48  1995"
      ]
     },
     "execution_count": 30,
     "metadata": {},
     "output_type": "execute_result"
    }
   ],
   "source": [
    "df_final['Year'] = df_final['Month'].map(lambda x: x.year) # here we create a new year column by extracting value from the date column\n",
    "\n",
    "df_final['Avg Value'] = df_final['Avg Value'].astype(float).round(2) # make it numeric\n",
    "\n",
    "\n",
    "df_final.head()"
   ]
  },
  {
   "cell_type": "code",
   "execution_count": 31,
   "metadata": {},
   "outputs": [],
   "source": [
    "df_final[\"Year\"]=df_final[\"Year\"].astype(int) # mke the year as numeric as well"
   ]
  },
  {
   "cell_type": "code",
   "execution_count": 32,
   "metadata": {},
   "outputs": [
    {
     "data": {
      "text/html": [
       "<div>\n",
       "<style scoped>\n",
       "    .dataframe tbody tr th:only-of-type {\n",
       "        vertical-align: middle;\n",
       "    }\n",
       "\n",
       "    .dataframe tbody tr th {\n",
       "        vertical-align: top;\n",
       "    }\n",
       "\n",
       "    .dataframe thead th {\n",
       "        text-align: right;\n",
       "    }\n",
       "</style>\n",
       "<table border=\"1\" class=\"dataframe\">\n",
       "  <thead>\n",
       "    <tr style=\"text-align: right;\">\n",
       "      <th></th>\n",
       "      <th>Borough</th>\n",
       "      <th>Year</th>\n",
       "      <th>Avg Value</th>\n",
       "    </tr>\n",
       "  </thead>\n",
       "  <tbody>\n",
       "    <tr>\n",
       "      <th>0</th>\n",
       "      <td>Barking &amp; Dagenham</td>\n",
       "      <td>1995</td>\n",
       "      <td>51817.97</td>\n",
       "    </tr>\n",
       "    <tr>\n",
       "      <th>1</th>\n",
       "      <td>Barking &amp; Dagenham</td>\n",
       "      <td>1996</td>\n",
       "      <td>51718.19</td>\n",
       "    </tr>\n",
       "    <tr>\n",
       "      <th>2</th>\n",
       "      <td>Barking &amp; Dagenham</td>\n",
       "      <td>1997</td>\n",
       "      <td>55974.26</td>\n",
       "    </tr>\n",
       "    <tr>\n",
       "      <th>3</th>\n",
       "      <td>Barking &amp; Dagenham</td>\n",
       "      <td>1998</td>\n",
       "      <td>60285.82</td>\n",
       "    </tr>\n",
       "    <tr>\n",
       "      <th>4</th>\n",
       "      <td>Barking &amp; Dagenham</td>\n",
       "      <td>1999</td>\n",
       "      <td>65320.94</td>\n",
       "    </tr>\n",
       "  </tbody>\n",
       "</table>\n",
       "</div>"
      ],
      "text/plain": [
       "              Borough  Year  Avg Value\n",
       "0  Barking & Dagenham  1995   51817.97\n",
       "1  Barking & Dagenham  1996   51718.19\n",
       "2  Barking & Dagenham  1997   55974.26\n",
       "3  Barking & Dagenham  1998   60285.82\n",
       "4  Barking & Dagenham  1999   65320.94"
      ]
     },
     "execution_count": 32,
     "metadata": {},
     "output_type": "execute_result"
    }
   ],
   "source": [
    "price_avg_pa = df_final.groupby(['Borough','Year'])[\"Avg Value\"].mean().round(2).reset_index() # since we have multiple enteries for every year, we can group by to condense the data further. \n",
    "\n",
    "price_avg_pa.head()"
   ]
  },
  {
   "cell_type": "code",
   "execution_count": 33,
   "metadata": {},
   "outputs": [
    {
     "name": "stderr",
     "output_type": "stream",
     "text": [
      "/var/folders/xb/xknrxvvx17j2mqvgfc966dv00000gn/T/ipykernel_83032/3349282310.py:6: FutureWarning: Calling float on a single element Series is deprecated and will raise a TypeError in the future. Use float(ser.iloc[0]) instead\n",
      "  p1995 = float(x['Avg Value'][x['Year'] == 1995])\n",
      "/var/folders/xb/xknrxvvx17j2mqvgfc966dv00000gn/T/ipykernel_83032/3349282310.py:7: FutureWarning: Calling float on a single element Series is deprecated and will raise a TypeError in the future. Use float(ser.iloc[0]) instead\n",
      "  p2024 = float(x['Avg Value'][x['Year'] == 2024])\n"
     ]
    },
    {
     "data": {
      "text/plain": [
       "'Hackney'"
      ]
     },
     "execution_count": 33,
     "metadata": {},
     "output_type": "execute_result"
    }
   ],
   "source": [
    "#find Borough with biggest increase on average price between 1995 and 2024\n",
    "#here I want to write a function which calculates the ratio of houce prices between two years. \n",
    "\n",
    "def pct_change(p):\n",
    "  x = price_avg_pa[price_avg_pa['Borough']==p]\n",
    "  p1995 = float(x['Avg Value'][x['Year'] == 1995])\n",
    "  p2024 = float(x['Avg Value'][x['Year'] == 2024])\n",
    "  pct_change = (p2024-p1995)/p1995\n",
    "  return pct_change\n",
    "\n",
    "boroughs = list(price_avg_pa['Borough'].unique())\n",
    "dict = {}\n",
    "\n",
    "for borough in boroughs:\n",
    "  increase_pct = \"{:.2%}\".format(pct_change(borough))\n",
    "  dict.update({borough: increase_pct})\n",
    "\n",
    "max(dict, key=dict.get)"
   ]
  },
  {
   "cell_type": "code",
   "execution_count": 34,
   "metadata": {},
   "outputs": [
    {
     "data": {
      "text/html": [
       "<div>\n",
       "<style scoped>\n",
       "    .dataframe tbody tr th:only-of-type {\n",
       "        vertical-align: middle;\n",
       "    }\n",
       "\n",
       "    .dataframe tbody tr th {\n",
       "        vertical-align: top;\n",
       "    }\n",
       "\n",
       "    .dataframe thead th {\n",
       "        text-align: right;\n",
       "    }\n",
       "</style>\n",
       "<table border=\"1\" class=\"dataframe\">\n",
       "  <thead>\n",
       "    <tr style=\"text-align: right;\">\n",
       "      <th></th>\n",
       "      <th>Borough</th>\n",
       "      <th>pct_change</th>\n",
       "    </tr>\n",
       "  </thead>\n",
       "  <tbody>\n",
       "    <tr>\n",
       "      <th>10</th>\n",
       "      <td>Hackney</td>\n",
       "      <td>790.16%</td>\n",
       "    </tr>\n",
       "  </tbody>\n",
       "</table>\n",
       "</div>"
      ],
      "text/plain": [
       "    Borough pct_change\n",
       "10  Hackney    790.16%"
      ]
     },
     "execution_count": 34,
     "metadata": {},
     "output_type": "execute_result"
    }
   ],
   "source": [
    "\n",
    "df95vs24 = pd.DataFrame(dict.items())\n",
    "df95vs24.columns = ['Borough', 'pct_change']\n",
    "df95vs24.loc[df95vs24['Borough']=='Hackney']"
   ]
  },
  {
   "cell_type": "code",
   "execution_count": 35,
   "metadata": {},
   "outputs": [
    {
     "data": {
      "text/html": [
       "<div>\n",
       "<style scoped>\n",
       "    .dataframe tbody tr th:only-of-type {\n",
       "        vertical-align: middle;\n",
       "    }\n",
       "\n",
       "    .dataframe tbody tr th {\n",
       "        vertical-align: top;\n",
       "    }\n",
       "\n",
       "    .dataframe thead th {\n",
       "        text-align: right;\n",
       "    }\n",
       "</style>\n",
       "<table border=\"1\" class=\"dataframe\">\n",
       "  <thead>\n",
       "    <tr style=\"text-align: right;\">\n",
       "      <th></th>\n",
       "      <th>Borough</th>\n",
       "      <th>Postal Code</th>\n",
       "      <th>Month</th>\n",
       "      <th>Avg Value</th>\n",
       "      <th>Year</th>\n",
       "    </tr>\n",
       "  </thead>\n",
       "  <tbody>\n",
       "    <tr>\n",
       "      <th>0</th>\n",
       "      <td>Hackney</td>\n",
       "      <td>E09000012</td>\n",
       "      <td>1995-01-01</td>\n",
       "      <td>61296.53</td>\n",
       "      <td>1995</td>\n",
       "    </tr>\n",
       "    <tr>\n",
       "      <th>1</th>\n",
       "      <td>Hackney</td>\n",
       "      <td>E09000012</td>\n",
       "      <td>1995-02-01</td>\n",
       "      <td>63187.08</td>\n",
       "      <td>1995</td>\n",
       "    </tr>\n",
       "    <tr>\n",
       "      <th>2</th>\n",
       "      <td>Hackney</td>\n",
       "      <td>E09000012</td>\n",
       "      <td>1995-03-01</td>\n",
       "      <td>63593.30</td>\n",
       "      <td>1995</td>\n",
       "    </tr>\n",
       "    <tr>\n",
       "      <th>3</th>\n",
       "      <td>Hackney</td>\n",
       "      <td>E09000012</td>\n",
       "      <td>1995-04-01</td>\n",
       "      <td>65139.64</td>\n",
       "      <td>1995</td>\n",
       "    </tr>\n",
       "    <tr>\n",
       "      <th>4</th>\n",
       "      <td>Hackney</td>\n",
       "      <td>E09000012</td>\n",
       "      <td>1995-05-01</td>\n",
       "      <td>66193.99</td>\n",
       "      <td>1995</td>\n",
       "    </tr>\n",
       "  </tbody>\n",
       "</table>\n",
       "</div>"
      ],
      "text/plain": [
       "   Borough Postal Code      Month  Avg Value  Year\n",
       "0  Hackney   E09000012 1995-01-01   61296.53  1995\n",
       "1  Hackney   E09000012 1995-02-01   63187.08  1995\n",
       "2  Hackney   E09000012 1995-03-01   63593.30  1995\n",
       "3  Hackney   E09000012 1995-04-01   65139.64  1995\n",
       "4  Hackney   E09000012 1995-05-01   66193.99  1995"
      ]
     },
     "execution_count": 35,
     "metadata": {},
     "output_type": "execute_result"
    }
   ],
   "source": [
    "#trending the Average value increase of Hackeny against City of London as a whole\n",
    "filter_list = ['Hackney', 'City of London']\n",
    "\n",
    "citynhackney = df_final.loc[df_final['Borough'].isin(filter_list)].reset_index(drop=True)\n",
    "citynhackney['Year'] = citynhackney['Month'].map(lambda x: x.year)\n",
    "citynhackney['Avg Value'] = citynhackney['Avg Value'].astype(float).round(2)\n",
    "citynhackney.head()"
   ]
  },
  {
   "cell_type": "code",
   "execution_count": 36,
   "metadata": {},
   "outputs": [
    {
     "data": {
      "text/plain": [
       "[Text(0.5, 1.0, 'Average Housing Value Increase 1995-2024')]"
      ]
     },
     "execution_count": 36,
     "metadata": {},
     "output_type": "execute_result"
    },
    {
     "data": {
      "image/png": "[encoded data removed]",
      "text/plain": [
       "<Figure size 640x480 with 1 Axes>"
      ]
     },
     "metadata": {},
     "output_type": "display_data"
    }
   ],
   "source": [
    "#plotting \n",
    "import seaborn as sns\n",
    "\n",
    "sns.lineplot(data=citynhackney, x='Month', y='Avg Value', hue='Borough').set(title='Average Housing Value Increase 1995-2024')"
   ]
  },
  {
   "cell_type": "markdown",
   "metadata": {
    "colab_type": "text",
    "id": "o1uLbJAsoIjK"
   },
   "source": [
    "**2.3. Cleaning the data (part 2)**\n",
    "\n",
    "You might we have to **rename** a couple columns. How do you do this? The clue's pretty bold..."
   ]
  },
  {
   "cell_type": "code",
   "execution_count": 37,
   "metadata": {},
   "outputs": [
    {
     "name": "stderr",
     "output_type": "stream",
     "text": [
      "/var/folders/xb/xknrxvvx17j2mqvgfc966dv00000gn/T/ipykernel_83032/2059863430.py:3: FutureWarning: Calling float on a single element Series is deprecated and will raise a TypeError in the future. Use float(ser.iloc[0]) instead\n",
      "  p1998 = float(x['Avg Value'][x['Year'] == 1998])\n",
      "/var/folders/xb/xknrxvvx17j2mqvgfc966dv00000gn/T/ipykernel_83032/2059863430.py:4: FutureWarning: Calling float on a single element Series is deprecated and will raise a TypeError in the future. Use float(ser.iloc[0]) instead\n",
      "  p2018 = float(x['Avg Value'][x['Year'] == 2018])\n"
     ]
    },
    {
     "data": {
      "text/plain": [
       "0.1613349445001764"
      ]
     },
     "execution_count": 37,
     "metadata": {},
     "output_type": "execute_result"
    }
   ],
   "source": [
    "def create_price_ratio(p):\n",
    "  x = price_avg_pa[price_avg_pa['Borough']==p]\n",
    "  p1998 = float(x['Avg Value'][x['Year'] == 1998])\n",
    "  p2018 = float(x['Avg Value'][x['Year'] == 2018])\n",
    "  ratio = (p1998/ p2018)\n",
    "  return ratio\n",
    "\n",
    "#test output\n",
    "create_price_ratio('Hackney')"
   ]
  },
  {
   "cell_type": "code",
   "execution_count": 38,
   "metadata": {},
   "outputs": [
    {
     "name": "stdout",
     "output_type": "stream",
     "text": [
      "                       0       1\n",
      "0     Barking & Dagenham  20.42%\n",
      "1                 Barnet  22.95%\n",
      "2                 Bexley  23.54%\n",
      "3                  Brent  20.43%\n",
      "4                Bromley  24.42%\n",
      "5                 Camden  20.26%\n",
      "6                Croydon  23.80%\n",
      "7                 Ealing  23.19%\n",
      "8                Enfield  23.46%\n",
      "9              Greenwich  21.00%\n",
      "10               Hackney  16.13%\n",
      "11  Hammersmith & Fulham  24.17%\n",
      "12              Haringey  19.48%\n",
      "13                Harrow  24.64%\n",
      "14              Havering  23.12%\n",
      "15            Hillingdon  23.81%\n",
      "16              Hounslow  25.15%\n",
      "17             Islington  20.64%\n",
      "18  Kensington & Chelsea  19.68%\n",
      "19  Kingston upon Thames  23.42%\n",
      "20               Lambeth  20.17%\n",
      "21              Lewisham  18.35%\n",
      "22                Merton  21.09%\n",
      "23                Newham  18.85%\n",
      "24             Redbridge  22.37%\n",
      "25  Richmond upon Thames  24.97%\n",
      "26             Southwark  18.13%\n",
      "27                Sutton  24.28%\n",
      "28         Tower Hamlets  21.61%\n",
      "29        Waltham Forest  17.14%\n",
      "30            Wandsworth  21.02%\n",
      "31           Westminster  18.68%\n"
     ]
    },
    {
     "name": "stderr",
     "output_type": "stream",
     "text": [
      "/var/folders/xb/xknrxvvx17j2mqvgfc966dv00000gn/T/ipykernel_83032/2059863430.py:3: FutureWarning: Calling float on a single element Series is deprecated and will raise a TypeError in the future. Use float(ser.iloc[0]) instead\n",
      "  p1998 = float(x['Avg Value'][x['Year'] == 1998])\n",
      "/var/folders/xb/xknrxvvx17j2mqvgfc966dv00000gn/T/ipykernel_83032/2059863430.py:4: FutureWarning: Calling float on a single element Series is deprecated and will raise a TypeError in the future. Use float(ser.iloc[0]) instead\n",
      "  p2018 = float(x['Avg Value'][x['Year'] == 2018])\n"
     ]
    }
   ],
   "source": [
    "boroughs = list(price_avg_pa['Borough'].unique())\n",
    "b_price_change = {}\n",
    "\n",
    "for borough in boroughs:\n",
    "  increase_pct = \"{:.2%}\".format(create_price_ratio(borough))\n",
    "  b_price_change.update({borough: increase_pct})\n",
    "\n",
    "print(pd.DataFrame(b_price_change.items()))"
   ]
  },
  {
   "cell_type": "code",
   "execution_count": 39,
   "metadata": {},
   "outputs": [
    {
     "data": {
      "text/plain": [
       "'Hackney'"
      ]
     },
     "execution_count": 39,
     "metadata": {},
     "output_type": "execute_result"
    }
   ],
   "source": [
    "#Borough with the highest increase in Average value comparing year 2018 to year 1998\n",
    "min(b_price_change, key=b_price_change.get)"
   ]
  },
  {
   "cell_type": "code",
   "execution_count": 40,
   "metadata": {},
   "outputs": [
    {
     "data": {
      "text/html": [
       "<div>\n",
       "<style scoped>\n",
       "    .dataframe tbody tr th:only-of-type {\n",
       "        vertical-align: middle;\n",
       "    }\n",
       "\n",
       "    .dataframe tbody tr th {\n",
       "        vertical-align: top;\n",
       "    }\n",
       "\n",
       "    .dataframe thead th {\n",
       "        text-align: right;\n",
       "    }\n",
       "</style>\n",
       "<table border=\"1\" class=\"dataframe\">\n",
       "  <thead>\n",
       "    <tr style=\"text-align: right;\">\n",
       "      <th></th>\n",
       "      <th>Borough</th>\n",
       "      <th>Postal Code</th>\n",
       "      <th>Month</th>\n",
       "      <th>Avg Value</th>\n",
       "    </tr>\n",
       "  </thead>\n",
       "  <tbody>\n",
       "    <tr>\n",
       "      <th>15427</th>\n",
       "      <td>Kensington &amp; Chelsea</td>\n",
       "      <td>E09000020</td>\n",
       "      <td>2021-10-01</td>\n",
       "      <td>1527966.0</td>\n",
       "    </tr>\n",
       "  </tbody>\n",
       "</table>\n",
       "</div>"
      ],
      "text/plain": [
       "                    Borough Postal Code      Month  Avg Value\n",
       "15427  Kensington & Chelsea   E09000020 2021-10-01  1527966.0"
      ]
     },
     "execution_count": 40,
     "metadata": {},
     "output_type": "execute_result"
    }
   ],
   "source": [
    "# Identifying the most expensive Borough in London\n",
    "df_cleaned.loc[df_cleaned['Avg Value'] == df_cleaned['Avg Value'].max()]"
   ]
  },
  {
   "cell_type": "code",
   "execution_count": 41,
   "metadata": {},
   "outputs": [
    {
     "data": {
      "text/plain": [
       "[Text(0.5, 1.0, 'Average Housing Value Increase 1995-2020')]"
      ]
     },
     "execution_count": 41,
     "metadata": {},
     "output_type": "execute_result"
    },
    {
     "data": {
      "image/png": "[encoded data removed]",
      "text/plain": [
       "<Figure size 640x480 with 1 Axes>"
      ]
     },
     "metadata": {},
     "output_type": "display_data"
    }
   ],
   "source": [
    "# putting Kensington & Chelsea, City of London and Hacney together for comparison\n",
    "filter_list = ['Kensington & Chelsea', 'City of London', 'Hackney']\n",
    "\n",
    "citynken = df_cleaned.loc[df_cleaned['Borough'].isin(filter_list)].reset_index(drop=True)\n",
    "citynken['Year'] = citynken['Month'].map(lambda x: x.year)\n",
    "citynken['Avg Value'] = citynken['Avg Value'].astype(float).round(2)\n",
    "citynken.head()\n",
    "\n",
    "import seaborn as sns\n",
    "\n",
    "sns.lineplot(data=citynken, x='Month', y='Avg Value', hue='Borough').set(title='Average Housing Value Increase 1995-2020')"
   ]
  },
  {
   "cell_type": "markdown",
   "metadata": {
    "colab_type": "text",
    "id": "NzYUI7FxJpgv"
   },
   "source": [
    "### 4. Conclusion\n",
    "\n",
    "Between the period of 1995 to 2024, Hackney is the London Borough with the greatest average increase in housing prices. Prices grew 790.16% over the period\n",
    "However, in terms of absolute value, Hackney is still below average of London housing prices\n",
    "In terms of absolute value, Kensington & Chelsea is the most expsnive Borough in London"
   ]
  }
 ],
 "metadata": {
  "colab": {
   "collapsed_sections": [],
   "name": "Springboard Data Science Career Track Unit 4 Challenge - Tier 3 Complete .ipynb",
   "provenance": []
  },
  "kernelspec": {
   "display_name": "Python 3 (ipykernel)",
   "language": "python",
   "name": "python3"
  },
  "language_info": {
   "codemirror_mode": {
    "name": "ipython",
    "version": 3
   },
   "file_extension": ".py",
   "mimetype": "text/x-python",
   "name": "python",
   "nbconvert_exporter": "python",
   "pygments_lexer": "ipython3",
   "version": "3.11.5"
  }
 },
 "nbformat": 4,
 "nbformat_minor": 1
}
